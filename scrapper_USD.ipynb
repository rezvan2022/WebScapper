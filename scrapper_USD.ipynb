{
 "cells": [
  {
   "cell_type": "code",
   "execution_count": null,
   "metadata": {},
   "outputs": [],
   "source": [
    "from selenium import webdriver\n",
    "from webdriver_manager.chrome import ChromeDriverManager\n",
    "from selenium.webdriver.common.keys import Keys\n",
    "import time\n",
    "from selenium.webdriver.support.ui import Select\n",
    "from selenium.webdriver.common.action_chains import ActionChains\n",
    "from selenium.webdriver.common.by import By\n",
    "from selenium.webdriver.support import expected_conditions as EC\n",
    "\n",
    "\n",
    "\n"
   ]
  },
  {
   "cell_type": "code",
   "execution_count": 32,
   "metadata": {},
   "outputs": [
    {
     "name": "stderr",
     "output_type": "stream",
     "text": [
      "[WDM] - ====== WebDriver manager ======\n"
     ]
    },
    {
     "name": "stdout",
     "output_type": "stream",
     "text": [
      "\n"
     ]
    },
    {
     "name": "stderr",
     "output_type": "stream",
     "text": [
      "[WDM] - Current google-chrome version is 106.0.5249\n",
      "[WDM] - Get LATEST chromedriver version for 106.0.5249 google-chrome\n",
      "[WDM] - Driver [C:\\Users\\r.abdollahi\\.wdm\\drivers\\chromedriver\\win32\\106.0.5249.61\\chromedriver.exe] found in cache\n",
      "C:\\Users\\r.abdollahi\\AppData\\Local\\Temp\\ipykernel_7572\\2759017295.py:1: DeprecationWarning: executable_path has been deprecated, please pass in a Service object\n",
      "  brower = webdriver.Chrome(ChromeDriverManager().install())\n"
     ]
    }
   ],
   "source": [
    "brower = webdriver.Chrome(ChromeDriverManager().install())\n",
    "brower.get('https://www.tgju.org/archive/sana_real_sell_usd')"
   ]
  },
  {
   "cell_type": "code",
   "execution_count": 45,
   "metadata": {},
   "outputs": [
    {
     "name": "stderr",
     "output_type": "stream",
     "text": [
      "C:\\Users\\r.abdollahi\\AppData\\Local\\Temp\\ipykernel_7572\\568168960.py:1: DeprecationWarning: find_element_by_* commands are deprecated. Please use find_element() instead\n",
      "  table = brower.find_element_by_id('table-list')\n"
     ]
    },
    {
     "data": {
      "text/plain": [
       "list"
      ]
     },
     "execution_count": 45,
     "metadata": {},
     "output_type": "execute_result"
    }
   ],
   "source": [
    "table = brower.find_element_by_id('table-list')\n",
    "table1=table.get_attribute('innerText')\n",
    "len(table1)\n",
    "#table2=list(table1)\n",
    "table2=table1.split()\n",
    "type(table2)"
   ]
  },
  {
   "cell_type": "code",
   "execution_count": 53,
   "metadata": {},
   "outputs": [
    {
     "name": "stdout",
     "output_type": "stream",
     "text": [
      "arr:  [['289,239' '289,239' '289,239' '289,239' '201' '0.07%' '2022/10/15'\n",
      "  '1401/07/23']\n",
      " ['289,038' '289,038' '289,038' '289,038' '201' '0.07%' '2022/10/12'\n",
      "  '1401/07/20']\n",
      " ['288,837' '288,837' '288,837' '288,837' '402' '0.14%' '2022/10/04'\n",
      "  '1401/07/12']\n",
      " ['288,263' '288,263' '288,435' '288,435' '-' '-' '2022/10/03'\n",
      "  '1401/07/11']\n",
      " ['288,435' '288,435' '288,435' '288,435' '181' '0.06%' '2022/10/02'\n",
      "  '1401/07/10']\n",
      " ['288,254' '288,254' '288,254' '288,254' '120' '0.04%' '2022/10/01'\n",
      "  '1401/07/09']\n",
      " ['288,134' '288,134' '288,134' '288,134' '201' '0.07%' '2022/09/29'\n",
      "  '1401/07/07']\n",
      " ['287,430' '286,425' '287,933' '287,933' '-' '-' '2022/09/28'\n",
      "  '1401/07/06']\n",
      " ['287,933' '287,933' '287,933' '287,933' '915' '0.32%' '2022/09/26'\n",
      "  '1401/07/04']\n",
      " ['287,018' '287,018' '287,018' '287,018' '420' '0.15%' '2022/09/24'\n",
      "  '1401/07/02']\n",
      " ['287,581' '287,438' '287,581' '287,438' '25' '0.01%' '2022/09/22'\n",
      "  '1401/06/31']\n",
      " ['287,413' '287,413' '287,413' '287,413' '184' '0.06%' '2022/09/21'\n",
      "  '1401/06/30']\n",
      " ['288,234' '287,229' '288,234' '287,229' '704' '0.25%' '2022/09/20'\n",
      "  '1401/06/29']\n",
      " ['288,033' '287,933' '288,033' '287,933' '402' '0.14%' '2022/09/18'\n",
      "  '1401/06/27']\n",
      " ['287,531' '287,531' '287,531' '287,531' '101' '0.04%' '2022/09/15'\n",
      "  '1401/06/24']\n",
      " ['287,162' '287,162' '287,430' '287,430' '1407' '0.49%' '2022/09/14'\n",
      "  '1401/06/23']\n",
      " ['286,425' '286,023' '286,425' '286,023' '201' '0.07%' '2022/09/13'\n",
      "  '1401/06/22']\n",
      " ['286,425' '286,224' '286,425' '286,224' '402' '0.14%' '2022/09/12'\n",
      "  '1401/06/21']\n",
      " ['286,425' '285,822' '286,425' '285,822' '201' '0.07%' '2022/09/11'\n",
      "  '1401/06/20']\n",
      " ['286,425' '286,023' '286,425' '286,023' '201' '0.07%' '2022/09/10'\n",
      "  '1401/06/19']\n",
      " ['285,822' '285,822' '285,822' '285,822' '493' '0.17%' '2022/09/08'\n",
      "  '1401/06/17']\n",
      " ['285,717' '285,329' '285,717' '285,329' '393' '0.14%' '2022/09/07'\n",
      "  '1401/06/16']\n",
      " ['285,521' '285,521' '285,722' '285,722' '302' '0.11%' '2022/09/06'\n",
      "  '1401/06/15']\n",
      " ['285,484' '285,420' '285,967' '285,420' '101' '0.04%' '2022/09/05'\n",
      "  '1401/06/14']\n",
      " ['285,521' '285,521' '285,521' '285,521' '101' '0.04%' '2022/09/04'\n",
      "  '1401/06/13']\n",
      " ['286,425' '285,420' '286,425' '285,420' '4' '-' '2022/09/03'\n",
      "  '1401/06/12']\n",
      " ['285,424' '285,424' '285,424' '285,424' '14' '-' '2022/09/01'\n",
      "  '1401/06/10']\n",
      " ['284,449' '284,449' '285,410' '285,410' '1944' '0.69%' '2022/08/31'\n",
      "  '1401/06/09']\n",
      " ['286,425' '283,429' '286,425' '283,466' '759' '0.27%' '2022/08/30'\n",
      "  '1401/06/08']\n",
      " ['279,390' '279,390' '282,707' '282,707' '101' '0.04%' '2022/08/29'\n",
      "  '1401/06/07']]\n"
     ]
    },
    {
     "data": {
      "text/plain": [
       "(30, 8)"
      ]
     },
     "execution_count": 53,
     "metadata": {},
     "output_type": "execute_result"
    }
   ],
   "source": [
    "\n",
    "# importing library\n",
    "import numpy as np\n",
    " \n",
    "# initializing list\n",
    "lst = table2\n",
    " \n",
    "# converting list to array\n",
    "table3 = numpy.asarray(lst).reshape(30,8)\n",
    " \n",
    "# displaying list\n",
    "#print (\"List:\", lst)\n",
    " \n",
    "# displaying array\n",
    "print (\"arr: \", table3)\n",
    "table3.shape"
   ]
  },
  {
   "cell_type": "code",
   "execution_count": 58,
   "metadata": {},
   "outputs": [],
   "source": [
    "import csv\n",
    "\n",
    "with open('USD.csv','w') as f:\n",
    "    writer = csv.writer(f)\n",
    "    writer.writerows(table3)"
   ]
  }
 ],
 "metadata": {
  "kernelspec": {
   "display_name": "Python 3.9.0 64-bit",
   "language": "python",
   "name": "python3"
  },
  "language_info": {
   "codemirror_mode": {
    "name": "ipython",
    "version": 3
   },
   "file_extension": ".py",
   "mimetype": "text/x-python",
   "name": "python",
   "nbconvert_exporter": "python",
   "pygments_lexer": "ipython3",
   "version": "3.9.0"
  },
  "orig_nbformat": 4,
  "vscode": {
   "interpreter": {
    "hash": "aaee4e88c8713e583bc21b571e15121b26e77456b19712a4698a0a9b5e3320c0"
   }
  }
 },
 "nbformat": 4,
 "nbformat_minor": 2
}
